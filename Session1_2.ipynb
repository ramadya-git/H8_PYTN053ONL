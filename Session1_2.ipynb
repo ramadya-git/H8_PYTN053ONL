{
 "cells": [
  {
   "cell_type": "markdown",
   "metadata": {},
   "source": [
    "**Intro to Python for Data Science Session 1 II**"
   ]
  },
  {
   "cell_type": "markdown",
   "metadata": {},
   "source": [
    "Tipe data **List**, mirip seperti Array"
   ]
  },
  {
   "cell_type": "code",
   "execution_count": 1,
   "metadata": {},
   "outputs": [
    {
     "data": {
      "text/plain": [
       "False"
      ]
     },
     "execution_count": 1,
     "metadata": {},
     "output_type": "execute_result"
    }
   ],
   "source": [
    "a = ['Kiki', 'Lala', 'Baba']\n",
    "b = ['Nene', 'Gugu', 'Momo']\n",
    "\n",
    "a == b"
   ]
  },
  {
   "cell_type": "code",
   "execution_count": 2,
   "metadata": {},
   "outputs": [
    {
     "data": {
      "text/plain": [
       "3"
      ]
     },
     "execution_count": 2,
     "metadata": {},
     "output_type": "execute_result"
    }
   ],
   "source": [
    "len(a)"
   ]
  },
  {
   "cell_type": "code",
   "execution_count": 3,
   "metadata": {},
   "outputs": [
    {
     "name": "stdout",
     "output_type": "stream",
     "text": [
      "('Kiki', 24, 10.2)\n"
     ]
    }
   ],
   "source": [
    "mix = ('Kiki', 24, 10.2)\n",
    "print(mix)"
   ]
  },
  {
   "cell_type": "code",
   "execution_count": 4,
   "metadata": {},
   "outputs": [
    {
     "name": "stdout",
     "output_type": "stream",
     "text": [
      "Kiki 24 10.2 24\n"
     ]
    }
   ],
   "source": [
    "print(mix[0], mix[1], mix[-1], mix[-2])"
   ]
  },
  {
   "cell_type": "code",
   "execution_count": 5,
   "metadata": {},
   "outputs": [
    {
     "data": {
      "text/plain": [
       "5"
      ]
     },
     "execution_count": 5,
     "metadata": {},
     "output_type": "execute_result"
    }
   ],
   "source": [
    "i = [1,2,3,['Nene','Gugu'],[10.2,10.2]]\n",
    "len(i)"
   ]
  },
  {
   "cell_type": "code",
   "execution_count": 6,
   "metadata": {},
   "outputs": [
    {
     "name": "stdout",
     "output_type": "stream",
     "text": [
      "2 ['Nene', 'Gugu']\n"
     ]
    }
   ],
   "source": [
    "print(i[1],i[3])"
   ]
  },
  {
   "cell_type": "markdown",
   "metadata": {},
   "source": [
    "Menggabungkan 2 List"
   ]
  },
  {
   "cell_type": "code",
   "execution_count": 7,
   "metadata": {},
   "outputs": [
    {
     "name": "stdout",
     "output_type": "stream",
     "text": [
      "['Lala', 'Baba', 'Nene']\n",
      "['Kiki', 'Lala', 'Baba']\n",
      "(['Kiki', 'Lala', 'Baba'], ['Nene', 'Gugu', 'Momo'])\n",
      "['Kiki', 'Lala', 'Baba', 'Nene', 'Gugu', 'Momo']\n"
     ]
    }
   ],
   "source": [
    "c = ['Kiki', 'Lala', 'Baba', 'Nene', 'Gugu', 'Momo']\n",
    "c2 = a,b\n",
    "c3 = a+b\n",
    "\n",
    "print(c[1:4])\n",
    "print(c[0:len(c)//2])\n",
    "print(c2)\n",
    "print(c3)"
   ]
  },
  {
   "cell_type": "markdown",
   "metadata": {},
   "source": [
    "Tipe data **Tuples**"
   ]
  },
  {
   "cell_type": "code",
   "execution_count": 8,
   "metadata": {},
   "outputs": [
    {
     "name": "stdout",
     "output_type": "stream",
     "text": [
      "('PYTN053', 'PYTN054', 53, 54)\n",
      "(('PYTN053', 53), ('PYTN054', 54))\n",
      "PYTN053\n"
     ]
    }
   ],
   "source": [
    "batch = (\"PYTN053\", \"PYTN054\", 53, 54)\n",
    "batches = ((\"PYTN053\",53), (\"PYTN054\",54))\n",
    "           \n",
    "print(batch)\n",
    "print(batches)\n",
    "print(batch[0])"
   ]
  },
  {
   "cell_type": "markdown",
   "metadata": {},
   "source": [
    "Tuples tidak dapat diganti nilainya, berbeda dengan List/Array"
   ]
  },
  {
   "cell_type": "code",
   "execution_count": 9,
   "metadata": {},
   "outputs": [
    {
     "name": "stdout",
     "output_type": "stream",
     "text": [
      "PYTN053\n",
      "PYTN054\n",
      "53\n",
      "54\n"
     ]
    }
   ],
   "source": [
    "p,q,r,s = batch\n",
    "print(p)\n",
    "print(q)\n",
    "print(r)\n",
    "print(s)"
   ]
  },
  {
   "cell_type": "markdown",
   "metadata": {},
   "source": [
    "Tipe data **Dictionary**"
   ]
  },
  {
   "cell_type": "code",
   "execution_count": 10,
   "metadata": {},
   "outputs": [
    {
     "name": "stdout",
     "output_type": "stream",
     "text": [
      "{'Names': ['Harry', 'Michael', 'Jordan', 'Kobe'], 'Ages': [18, 33, 24, 40]}\n"
     ]
    }
   ],
   "source": [
    "profiles = {\n",
    "    \"Names\" : [\"Harry\", \"Michael\", \"Jordan\", \"Kobe\"],\n",
    "    \"Ages\" : [18, 33, 24, 40]\n",
    "}\n",
    "print(profiles)"
   ]
  },
  {
   "cell_type": "code",
   "execution_count": 11,
   "metadata": {},
   "outputs": [
    {
     "name": "stdout",
     "output_type": "stream",
     "text": [
      "dict_keys(['Names', 'Ages'])\n",
      "dict_values([['Harry', 'Michael', 'Jordan', 'Kobe'], [18, 33, 24, 40]])\n"
     ]
    }
   ],
   "source": [
    "print(profiles.keys())\n",
    "print(profiles.values())"
   ]
  },
  {
   "cell_type": "code",
   "execution_count": 12,
   "metadata": {},
   "outputs": [
    {
     "name": "stdout",
     "output_type": "stream",
     "text": [
      "{'Names': ['Harry', 'Michael', 'Jordan', 'Kobe'], 'Ages': [18, 33, 24, 40], 'Location': ['Colorado', 'California', 'Indiana', 'Lincoln']}\n"
     ]
    }
   ],
   "source": [
    "profiles[\"Location\"] = [\"Colorado\",\"California\",\"Indiana\",\"Lincoln\"]\n",
    "print(profiles)"
   ]
  }
 ],
 "metadata": {
  "kernelspec": {
   "display_name": "Python 3",
   "language": "python",
   "name": "python3"
  },
  "language_info": {
   "codemirror_mode": {
    "name": "ipython",
    "version": 3
   },
   "file_extension": ".py",
   "mimetype": "text/x-python",
   "name": "python",
   "nbconvert_exporter": "python",
   "pygments_lexer": "ipython3",
   "version": "3.8.5"
  }
 },
 "nbformat": 4,
 "nbformat_minor": 4
}
