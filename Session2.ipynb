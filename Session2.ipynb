{
 "cells": [
  {
   "cell_type": "markdown",
   "metadata": {},
   "source": [
    "**Intro to Python for Data Science Session 2**"
   ]
  },
  {
   "cell_type": "code",
   "execution_count": 1,
   "metadata": {},
   "outputs": [
    {
     "name": "stdout",
     "output_type": "stream",
     "text": [
      "Yes\n",
      "No\n"
     ]
    }
   ],
   "source": [
    "x = 5\n",
    "y = 10\n",
    "\n",
    "if x < y:\n",
    "    print('Yes')\n",
    "else:\n",
    "    print('No')\n",
    "\n",
    "if x > y:\n",
    "    print('Yes')\n",
    "else:\n",
    "    print('No')"
   ]
  },
  {
   "cell_type": "code",
   "execution_count": 2,
   "metadata": {},
   "outputs": [
    {
     "name": "stdout",
     "output_type": "stream",
     "text": [
      "No\n",
      "Yes! Lima is in names list\n"
     ]
    }
   ],
   "source": [
    "names = ['Satya','Lima','Bagas','Maria','Joshua','Nino','Klein']\n",
    "z = 'satya'\n",
    "z2 = 'Lima'\n",
    "\n",
    "if z in names:\n",
    "    print(f\"Yes! {z} is in names list\")\n",
    "else:\n",
    "    print('No')\n",
    "\n",
    "if z2 in names:\n",
    "    print(f\"Yes! {z2} is in names list\")\n",
    "else:\n",
    "    print('No')"
   ]
  },
  {
   "cell_type": "code",
   "execution_count": 3,
   "metadata": {},
   "outputs": [
    {
     "name": "stdout",
     "output_type": "stream",
     "text": [
      "You can buy a medium meal!\n"
     ]
    }
   ],
   "source": [
    "big_meal_price = 1000\n",
    "medium_meal_price = 500\n",
    "money = 700\n",
    "\n",
    "if money >= big_meal_price:\n",
    "    print(\"You can buy a big meal!\")\n",
    "elif money >= medium_meal_price:\n",
    "    print(\"You can buy a medium meal!\")\n",
    "else:\n",
    "    print(\"Let's collect more money.\")"
   ]
  },
  {
   "cell_type": "code",
   "execution_count": 4,
   "metadata": {},
   "outputs": [],
   "source": [
    "count = 1"
   ]
  },
  {
   "cell_type": "code",
   "execution_count": 5,
   "metadata": {},
   "outputs": [
    {
     "name": "stdout",
     "output_type": "stream",
     "text": [
      "1\n",
      "2\n",
      "3\n",
      "4\n",
      "5\n",
      "6\n",
      "7\n",
      "8\n",
      "9\n",
      "10\n"
     ]
    }
   ],
   "source": [
    "while count <= 10:\n",
    "    print(count)\n",
    "    count = count + 1"
   ]
  },
  {
   "cell_type": "code",
   "execution_count": 6,
   "metadata": {},
   "outputs": [
    {
     "name": "stdout",
     "output_type": "stream",
     "text": [
      "Satya\n",
      "Lima\n",
      "Bagas\n",
      "Maria\n",
      "Joshua\n",
      "Nino\n",
      "Klein\n"
     ]
    }
   ],
   "source": [
    "i = 0\n",
    "while i < len(names):\n",
    "    print(names[i])\n",
    "    i = i + 1"
   ]
  },
  {
   "cell_type": "code",
   "execution_count": 7,
   "metadata": {},
   "outputs": [
    {
     "name": "stdout",
     "output_type": "stream",
     "text": [
      "Satya\n",
      "Lima\n"
     ]
    }
   ],
   "source": [
    "i2 = 0\n",
    "while i2 < len(names):\n",
    "    if i2 == 2:\n",
    "        break\n",
    "    print(names[i2])\n",
    "    i2 = i2 + 1"
   ]
  },
  {
   "cell_type": "code",
   "execution_count": 8,
   "metadata": {},
   "outputs": [
    {
     "name": "stdout",
     "output_type": "stream",
     "text": [
      "name no.0 Satya\n",
      "name no.1 Lima\n",
      "name no.2 Bagas\n",
      "name no.4 Joshua\n",
      "name no.5 Nino\n"
     ]
    }
   ],
   "source": [
    "#skip index 3 & 6\n",
    "i3 = 0\n",
    "while i3 < len(names):\n",
    "    if i3 % 3 == 0 and i3 != 0:\n",
    "        i3 = i3 + 1\n",
    "        continue\n",
    "    print(f'name no.{i3}', names[i3])\n",
    "    i3 = i3 + 1"
   ]
  },
  {
   "cell_type": "code",
   "execution_count": 9,
   "metadata": {},
   "outputs": [
    {
     "name": "stdout",
     "output_type": "stream",
     "text": [
      "Satya\n",
      "Lima\n",
      "Bagas\n",
      "Maria\n",
      "Joshua\n",
      "Nino\n",
      "Klein\n"
     ]
    }
   ],
   "source": [
    "for name in names:\n",
    "    print(name)"
   ]
  },
  {
   "cell_type": "code",
   "execution_count": 10,
   "metadata": {},
   "outputs": [
    {
     "name": "stdout",
     "output_type": "stream",
     "text": [
      "Name:\n",
      "S.A.T.Y.A.\n",
      "Name:\n",
      "L.I.M.A.\n",
      "Name:\n",
      "B.A.G.A.S.\n",
      "Name:\n",
      "M.A.R.I.A.\n",
      "Name:\n",
      "J.O.S.H.U.A.\n",
      "Name:\n",
      "N.I.N.O.\n",
      "Name:\n",
      "K.L.E.I.N.\n"
     ]
    }
   ],
   "source": [
    "for name in names:\n",
    "    print(\"Name:\")\n",
    "    s = \"\"\n",
    "    for char in name:\n",
    "        s = s + char + '.'\n",
    "    print(s.upper())"
   ]
  },
  {
   "cell_type": "code",
   "execution_count": 11,
   "metadata": {},
   "outputs": [
    {
     "name": "stdout",
     "output_type": "stream",
     "text": [
      "[0, 1, 2, 3, 4, 5, 6, 7, 8, 9, 10, 11, 12, 13, 14, 15, 16, 17, 18, 19, 20, 21, 22, 23, 24] \n",
      "\n",
      "[10, 11, 12, 13, 14, 15, 16, 17, 18, 19, 20, 21, 22, 23, 24] \n",
      "\n",
      "[0, 2, 4, 6, 8, 10, 12, 14, 16, 18, 20, 22, 24]\n"
     ]
    }
   ],
   "source": [
    "#range\n",
    "print(list(range(25)),'\\n')\n",
    "\n",
    "print(list(range(10,25)),'\\n')\n",
    "\n",
    "print(list(range(0,25,2)))"
   ]
  },
  {
   "cell_type": "code",
   "execution_count": 12,
   "metadata": {},
   "outputs": [
    {
     "name": "stdout",
     "output_type": "stream",
     "text": [
      "name no.0 Satya\n",
      "name no.1 Lima\n",
      "name no.2 Bagas\n",
      "name no.4 Joshua\n",
      "name no.5 Nino\n"
     ]
    }
   ],
   "source": [
    "i3 = 0\n",
    "for i3 in range(len(names)):\n",
    "    if i3 % 3 == 0 and i3 != 0:\n",
    "        continue\n",
    "    print(f'name no.{i3}', names[i3])"
   ]
  },
  {
   "cell_type": "code",
   "execution_count": 13,
   "metadata": {},
   "outputs": [
    {
     "name": "stdout",
     "output_type": "stream",
     "text": [
      "Names - ['Harry', 'Michael', 'Jordan', 'Kobe']\n",
      "Ages - [18, 33, 24, 40]\n"
     ]
    }
   ],
   "source": [
    "profiles = {\n",
    "    \"Names\" : [\"Harry\", \"Michael\", \"Jordan\", \"Kobe\"],\n",
    "    \"Ages\" : [18, 33, 24, 40]\n",
    "}\n",
    "\n",
    "for key in profiles.keys():\n",
    "    print(key,'-',profiles[key])"
   ]
  },
  {
   "cell_type": "code",
   "execution_count": 14,
   "metadata": {},
   "outputs": [
    {
     "name": "stdout",
     "output_type": "stream",
     "text": [
      "Names - ['Harry', 'Michael', 'Jordan', 'Kobe']\n",
      "Ages - [18, 33, 24, 40]\n"
     ]
    }
   ],
   "source": [
    "for key, value in profiles.items():\n",
    "    print(key,'-',value)"
   ]
  },
  {
   "cell_type": "code",
   "execution_count": 15,
   "metadata": {},
   "outputs": [
    {
     "name": "stdout",
     "output_type": "stream",
     "text": [
      "{'Names': ['Harry', 'Michael', 'Jordan', 'Kobe'], 'Ages': [18, 33, 24, 40], 'twos': [0, 2, 4, 6], 'threes': [0, 3, 6, 9]}\n"
     ]
    }
   ],
   "source": [
    "list_keys = [\"twos\",\"threes\"]\n",
    "multiplier = 2\n",
    "for key in list_keys:\n",
    "    value = []\n",
    "    for i in range(4):\n",
    "        value.append(i * multiplier)\n",
    "    multiplier = multiplier + 1\n",
    "    profiles[key] = value\n",
    "    \n",
    "print(profiles)"
   ]
  }
 ],
 "metadata": {
  "kernelspec": {
   "display_name": "Python 3",
   "language": "python",
   "name": "python3"
  },
  "language_info": {
   "codemirror_mode": {
    "name": "ipython",
    "version": 3
   },
   "file_extension": ".py",
   "mimetype": "text/x-python",
   "name": "python",
   "nbconvert_exporter": "python",
   "pygments_lexer": "ipython3",
   "version": "3.8.5"
  }
 },
 "nbformat": 4,
 "nbformat_minor": 4
}
